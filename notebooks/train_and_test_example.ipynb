{
 "cells": [
  {
   "cell_type": "code",
   "execution_count": null,
   "metadata": {},
   "outputs": [],
   "source": [
    "print('Start importing required libraries...')\n",
    "import os, sys, time\n",
    "sys.path.append('../')\n",
    "from tqdm.auto import tqdm\n",
    "import allel\n",
    "import yaml\n",
    "import numpy as np\n",
    "import pandas as pd\n",
    "import matplotlib.pyplot as plt\n",
    "import torch\n",
    "torch.autograd.set_detect_anomaly(True)\n",
    "import torch.nn as nn\n",
    "import torch.nn.functional as F\n",
    "import torch.optim as optim\n",
    "import math\n",
    "from collections import Counter\n",
    "import gzip\n",
    "from scipy.interpolate import interp1d\n",
    "\n",
    "from lainet.models.network_constructor import get_network\n",
    "from lainet.utils.eval import compute_accuracy, AccuracyLogger, complete_sk_eval, print_sk_eval\n",
    "from lainet.utils.reader import load_founders_from_vcf_and_map, load_results_file\n",
    "from lainet.utils.output_writer import get_meta_data, write_msp_tsv\n",
    "from lainet.training import train_main, eval_predictions\n",
    "from lainet.inference import inference_main \n",
    "\n",
    "\n",
    "print('Done importing, using pytorch version {}...'.format(torch.__version__))"
   ]
  },
  {
   "cell_type": "code",
   "execution_count": null,
   "metadata": {},
   "outputs": [],
   "source": [
    "config_path = '../configs/small.yaml'\n",
    "founders_vcf_file_path = 'reference.vcf'\n",
    "founders_map_file_path = 'reference.map'\n",
    "query_vcf_file_path = 'query.vcf'\n",
    "output_folder_prefix = '../output_lainet/example'\n",
    "\n",
    "# Load vcf and map files and config\n",
    "config = yaml.load(open(config_path), Loader=yaml.FullLoader)\n",
    "\n",
    "print(config)"
   ]
  },
  {
   "cell_type": "code",
   "execution_count": null,
   "metadata": {
    "scrolled": true,
    "tags": []
   },
   "outputs": [],
   "source": [
    "## Training\n",
    "train_main(config, founders_vcf_file_path, founders_map_file_path, output_folder_prefix)"
   ]
  },
  {
   "cell_type": "code",
   "execution_count": null,
   "metadata": {},
   "outputs": [],
   "source": [
    "## Inference\n",
    "net, predicted, probs, val_snps = inference_main(config, query_vcf_file_path, output_folder_prefix, output_folder_prefix)"
   ]
  },
  {
   "cell_type": "code",
   "execution_count": null,
   "metadata": {},
   "outputs": [],
   "source": [
    "print('Plotting results!')\n",
    "output_file = output_folder_prefix+\".msp.tsv\"\n",
    "print(output_file)\n",
    "\n",
    "msp_df = pd.read_csv(output_file, sep=\"\\t\")\n",
    "print(msp_df)"
   ]
  }
 ],
 "metadata": {
  "kernelspec": {
   "display_name": "Python 3 (ipykernel)",
   "language": "python",
   "name": "python3"
  },
  "language_info": {
   "codemirror_mode": {
    "name": "ipython",
    "version": 3
   },
   "file_extension": ".py",
   "mimetype": "text/x-python",
   "name": "python",
   "nbconvert_exporter": "python",
   "pygments_lexer": "ipython3",
   "version": "3.9.0"
  }
 },
 "nbformat": 4,
 "nbformat_minor": 4
}
